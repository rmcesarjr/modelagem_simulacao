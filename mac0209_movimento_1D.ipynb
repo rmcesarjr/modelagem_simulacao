{
  "cells": [
    {
      "cell_type": "markdown",
      "metadata": {
        "id": "pvaYxt9Ibv1e"
      },
      "source": [
        "<font size=\"5\"> <a href=\"https://uspdigital.usp.br/jupiterweb/obterDisciplina?sgldis=MAC0209\"> MAC0209 - Modelagem e Simulação</a> </font>\n",
        "\n",
        "Roberto M. Cesar Jr. (IME-USP)\n",
        "\n",
        "Roberto Hirata Jr. (IME-USP)\n",
        "***\n",
        "<font size=\"5\"> Resoluções de EDOs: soluções analítica e numérica pelo método de Euler </font>\n",
        "***"
      ]
    },
    {
      "cell_type": "markdown",
      "metadata": {
        "id": "QklAi6a0bv1h"
      },
      "source": [
        "# Método de Euler para solução de EDOs de primeira ordem"
      ]
    },
    {
      "cell_type": "markdown",
      "metadata": {
        "id": "ZH-CEat5bv1h"
      },
      "source": [
        "O método de Euler é uma forma de resolver numericamente uma equação diferencial ordinária. Assume-se ser conhecidas a derivada de uma função que se quer encontrar (\"resolver\") e um valor inicial da equação a ser integrada. Por exemplo, no caso do movimento uniformemente acelerado:$$a=\\mbox{constante}, b=\\mbox{constante}$$\n",
        "\n",
        "$$v(t) = x'(t) = \\frac{dx(t)}{dt} = 2at + b$$ $$x(0)=0$$\n",
        "\n",
        "A ideia do método de Euler é substituir a derivada por uma aproximação de Taylor, desprezando-se os termos maiores que segunda ordem. Isto é:\n",
        "\n",
        "$$x'(t)\\sim \\frac{x(t+\\Delta t)-x(t)}{\\Delta t}  = 2at + b$$\n",
        "\n",
        "Portanto, podemos escrever\n",
        "\n",
        "$$ x(t+\\Delta t) = x(t) + \\Delta t (2at + b) $$\n",
        "\n",
        "Isso permite implementar o algoritmo de Euler para calcular a posição futura $x(t+\\Delta t)$ a partir da posição atual $x(t)$. Nesse caso, $a, b, \\Delta t$ são parâmetros de entrada, bem como a posição inicial $x(0) = 0$.\n",
        "\n",
        "Observamos que, para esse caso, é possível calcular a solução $x(t)$ analiticamente:\n",
        "\n",
        "$$v(t) = x'(t) = \\frac{dx(t)}{dt} = 2at + b \\Rightarrow x(t) = a t^2 + bt + c$$"
      ]
    },
    {
      "cell_type": "markdown",
      "metadata": {
        "id": "4R6kRr8_bv1i"
      },
      "source": [
        "# Implementando o método de Euler"
      ]
    },
    {
      "cell_type": "markdown",
      "metadata": {
        "id": "rTMF7FwLbv1i"
      },
      "source": [
        "\n",
        "\n",
        "Para a implementação ficar organizada, crie duas funções:\n",
        "- nextXeuler(x,t,params,dt): que recebe um vetor de parâmetros iniciais, params, o tempo e a posição atual, t e x, respectivamente, e o delta de tempo, dt (note que com isso desacoplamos os índices do incremento). A função retorna a nova posição $x(t + \\Delta t)$ conforme explicado acima.\n",
        "- nextXa(t,params): que recebe um vetor de parâmetros iniciais, params, e o tempo atual. A função retorna a nova posição $x_t$ de acordo com a equação integrada analiticamente: $ x(t) = at^2 + bt + c $.\n",
        "\n",
        "params pode ser implementada como uma lista $[a,b,c]$.\n",
        "\n",
        "Crie uma função main que itera essas duas funções entre os tempos 0s e 2s (com um dt de 0.1s) calcula e imprime a diferença absoluta entre elas (erro) e as grafique.\n"
      ]
    },
    {
      "cell_type": "code",
      "execution_count": null,
      "metadata": {
        "id": "eM7FEYKZbv1j",
        "outputId": "73403b9b-e855-4b9a-cc51-7efac904b446",
        "colab": {
          "base_uri": "https://localhost:8080/",
          "height": 637
        }
      },
      "outputs": [
        {
          "output_type": "stream",
          "name": "stdout",
          "text": [
            "Erro:  0\n",
            "Erro:  0.009999999999999981\n",
            "Erro:  0.01999999999999999\n",
            "Erro:  0.02999999999999997\n",
            "Erro:  0.040000000000000036\n",
            "Erro:  0.050000000000000044\n",
            "Erro:  0.06000000000000005\n",
            "Erro:  0.07000000000000006\n",
            "Erro:  0.08000000000000007\n",
            "Erro:  0.0900000000000003\n",
            "Erro:  0.10000000000000053\n",
            "Erro:  0.11000000000000032\n",
            "Erro:  0.1200000000000001\n",
            "Erro:  0.12999999999999945\n",
            "Erro:  0.13999999999999924\n",
            "Erro:  0.14999999999999858\n",
            "Erro:  0.15999999999999837\n",
            "Erro:  0.16999999999999815\n",
            "Erro:  0.17999999999999794\n",
            "Erro:  0.18999999999999773\n"
          ]
        },
        {
          "output_type": "display_data",
          "data": {
            "text/plain": [
              "<Figure size 432x288 with 1 Axes>"
            ],
            "image/png": "[encoded data removed]"
          },
          "metadata": {
            "needs_background": "light"
          }
        }
      ],
      "source": [
        "# Implementa o exercício da integração de Euler de dx(t)/dt = 2at + b\n",
        "\n",
        "import math\n",
        "import matplotlib.pyplot as pyplot\n",
        "\n",
        "def nextXeuler(x,t,params,dt):\n",
        "    v = 2*params[0]*t + params[1]\n",
        "    return (x+v*dt)\n",
        "\n",
        "def nextXa(t,params):\n",
        "    return (params[0]*t*t + params[1]*t + params[2])\n",
        "\n",
        "def main():\n",
        "    t=0\n",
        "    tf = 2\n",
        "    dt=0.1\n",
        "    x=0\n",
        "    params = [1,1,x]\n",
        "    vxa=[]\n",
        "    vxe=[]\n",
        "    while (t<tf):\n",
        "        xa = nextXa(t,params)\n",
        "        vxa.append(xa)\n",
        "        vxe.append(x)\n",
        "        print('Erro: ', abs(x - xa)) #erro\n",
        "        t += dt\n",
        "        x = nextXeuler(x,t,params,dt)\n",
        "\n",
        "    pyplot.figure(0)\n",
        "    pyplot.plot(vxe,label='Euler',linestyle='',marker='o')\n",
        "    pyplot.plot(vxa,label='Analytical')\n",
        "    pyplot.title('Position')\n",
        "    pyplot.show(block=False)\n",
        "\n",
        "main()"
      ]
    },
    {
      "cell_type": "markdown",
      "metadata": {
        "id": "TQ7GI7mObv1k"
      },
      "source": [
        "# Exercício usando uma EDO de segunda ordem"
      ]
    },
    {
      "cell_type": "markdown",
      "metadata": {
        "id": "n_IkKEqnbv1l"
      },
      "source": [
        "Escreva a solução para a EDO:\n",
        "\n",
        "$ \\frac{d^2x}{dt^2} = 6t$\n",
        "\n"
      ]
    },
    {
      "cell_type": "code",
      "execution_count": null,
      "metadata": {
        "collapsed": true,
        "id": "wuzsXhtvbv1l"
      },
      "outputs": [],
      "source": [
        "# Escreva sua solucao aqui."
      ]
    },
    {
      "cell_type": "markdown",
      "metadata": {
        "id": "e6EfBqLVbv1l"
      },
      "source": [
        "Depois de ter escrito sua solução, compare com a resolução abaixo:\n"
      ]
    },
    {
      "cell_type": "code",
      "execution_count": null,
      "metadata": {
        "code_folding": [
          0
        ],
        "id": "KLTjO0rZbv1m",
        "outputId": "52cc92da-aa7e-4c97-d5c1-1555514f1a53",
        "colab": {
          "base_uri": "https://localhost:8080/",
          "height": 1000
        }
      },
      "outputs": [
        {
          "output_type": "stream",
          "name": "stdout",
          "text": [
            "Erro:  0\n",
            "Erro:  0.005000000000000002\n",
            "Erro:  0.016000000000000007\n",
            "Erro:  0.033\n",
            "Erro:  0.05600000000000001\n",
            "Erro:  0.08500000000000005\n",
            "Erro:  0.1200000000000001\n",
            "Erro:  0.1610000000000002\n",
            "Erro:  0.2080000000000003\n",
            "Erro:  0.26100000000000045\n",
            "Erro:  0.3200000000000006\n"
          ]
        },
        {
          "output_type": "display_data",
          "data": {
            "text/plain": [
              "<Figure size 640x480 with 1 Axes>"
            ],
            "image/png": "[encoded data removed]"
          },
          "metadata": {}
        },
        {
          "output_type": "display_data",
          "data": {
            "text/plain": [
              "<Figure size 640x480 with 1 Axes>"
            ],
            "image/png": "[encoded data removed]"
          },
          "metadata": {}
        }
      ],
      "source": [
        "# d2x / dt2 = 6t\n",
        "\n",
        "import math\n",
        "import matplotlib.pyplot as pyplot\n",
        "\n",
        "def nextXeuler(x,v,dt):\n",
        "    return x+v*dt\n",
        "\n",
        "def nextVeuler(v,t,dt):\n",
        "    return v + (6*t*dt)\n",
        "\n",
        "def nextVa(t):\n",
        "    return 3*(t**2)\n",
        "\n",
        "def nextXa(t):\n",
        "    return t**3\n",
        "\n",
        "def main():\n",
        "    t=0\n",
        "    tf = 1\n",
        "    dt=0.1\n",
        "    x=0\n",
        "    v=0\n",
        "    vva=[]\n",
        "    vxa=[]\n",
        "    vve=[]\n",
        "    vxe=[]\n",
        "    while (t<tf):\n",
        "        vva.append(nextVa(t))\n",
        "        vxa.append(nextXa(t))\n",
        "        vve.append(v)\n",
        "        vxe.append(x)\n",
        "        print('Erro: ', x - nextXa(t)) #erro\n",
        "        t += dt\n",
        "        v = nextVeuler(v,t,dt)\n",
        "        x = nextXeuler(x,v,dt)\n",
        "\n",
        "    pyplot.figure(0)\n",
        "    pyplot.plot(vxe,label='Euler',linestyle='',marker='o')\n",
        "    pyplot.plot(vxa,label='Analytical')\n",
        "    pyplot.title('Position')\n",
        "    pyplot.show(block=False)\n",
        "\n",
        "    pyplot.figure(1)\n",
        "    pyplot.plot(vve,label='Euler',linestyle='',marker='o')\n",
        "    pyplot.plot(vva,label='Analytical')\n",
        "    pyplot.title('Velocity')\n",
        "    pyplot.show()\n",
        "\n",
        "\n",
        "main()"
      ]
    },
    {
      "cell_type": "code",
      "execution_count": null,
      "metadata": {
        "collapsed": true,
        "id": "AiNpCCuGbv1m"
      },
      "outputs": [],
      "source": []
    }
  ],
  "metadata": {
    "anaconda-cloud": {},
    "kernelspec": {
      "display_name": "Python [default]",
      "language": "python",
      "name": "python3"
    },
    "language_info": {
      "codemirror_mode": {
        "name": "ipython",
        "version": 3
      },
      "file_extension": ".py",
      "mimetype": "text/x-python",
      "name": "python",
      "nbconvert_exporter": "python",
      "pygments_lexer": "ipython3",
      "version": "3.5.2"
    },
    "toc": {
      "base_numbering": 1,
      "nav_menu": {},
      "number_sections": true,
      "sideBar": true,
      "skip_h1_title": false,
      "title_cell": "Table of Contents",
      "title_sidebar": "Contents",
      "toc_cell": false,
      "toc_position": {},
      "toc_section_display": true,
      "toc_window_display": false
    },
    "colab": {
      "provenance": []
    }
  },
  "nbformat": 4,
  "nbformat_minor": 0
}