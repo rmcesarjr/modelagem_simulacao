{
  "cells": [
    {
      "cell_type": "markdown",
      "metadata": {
        "id": "QnrE8Z-Zt4nW"
      },
      "source": [
        "   # Simple Harmonic Oscilator - SHO"
      ]
    },
    {
      "cell_type": "markdown",
      "metadata": {
        "id": "5LePmTBut4nY"
      },
      "source": [
        "$\\frac{d^{2}x}{dt^{2}} = - \\omega^2 x$\n",
        "\n",
        "$\\omega = \\sqrt{\\frac{k}{m}}$\n",
        "\n",
        "ou\n",
        "\n",
        "$\\frac{dv}{dt} = a(t) = - \\omega^2 x(t)$\n",
        "\n",
        "$\\frac{dx}{dt} = v(t)$\n",
        "\n",
        "e a formulação de Euler:\n",
        "\n",
        "$$x(t+\\Delta t) = x(t) + \\Delta t \\; v(t)$$\n",
        "\n",
        "$$v(t+\\Delta t) = v(t) - \\Delta t \\; \\omega^2 x$$\n",
        "\n",
        "Podemos definir o vetor de estados e o vetor de taxas de variação:\n",
        "\n",
        "$$ \\vec{S} = [\\vec{S}[0], \\vec{S}[1], \\vec{S}[2]] = [x, v, t] $$\n",
        "\n",
        "$$ \\vec{R} = [\\vec{S}[1], - \\omega^2 \\vec{S}[0], 1] $$\n",
        "\n"
      ]
    },
    {
      "cell_type": "markdown",
      "metadata": {
        "id": "htviLrHat4nZ"
      },
      "source": [
        "# Exemplo"
      ]
    },
    {
      "cell_type": "markdown",
      "metadata": {
        "id": "kVkyysuPt4nZ"
      },
      "source": []
    },
    {
      "cell_type": "markdown",
      "metadata": {
        "id": "6WSJbXTKt4nZ"
      },
      "source": [
        "### Exercício: Implemente a solução analítica do SHO¶"
      ]
    },
    {
      "cell_type": "code",
      "execution_count": null,
      "metadata": {
        "id": "2RtLEHjet4nZ"
      },
      "outputs": [],
      "source": [
        "# Escreva sua solucao aqui."
      ]
    },
    {
      "cell_type": "markdown",
      "metadata": {
        "id": "26yUyBAot4na"
      },
      "source": [
        "### Exercício: Implemente a solução por Euler do SHO (resolva na célula abaixo antes de olhar a solução)"
      ]
    },
    {
      "cell_type": "code",
      "execution_count": null,
      "metadata": {
        "id": "beruNCf4t4nb"
      },
      "outputs": [],
      "source": [
        "# Escreva sua solucao aqui."
      ]
    },
    {
      "cell_type": "markdown",
      "metadata": {
        "id": "eA7bIHJjt4nb"
      },
      "source": [
        "### Resolução: Compare sua solução"
      ]
    },
    {
      "cell_type": "code",
      "execution_count": null,
      "metadata": {
        "id": "VtaO3wLxt4nb",
        "outputId": "13b94ef4-76e9-436b-ae30-02c4721d8752",
        "colab": {
          "base_uri": "https://localhost:8080/",
          "height": 545
        }
      },
      "outputs": [
        {
          "output_type": "display_data",
          "data": {
            "text/plain": [
              "<Figure size 432x288 with 1 Axes>"
            ],
            "image/png": "[encoded data removed]"
          },
          "metadata": {
            "needs_background": "light"
          }
        },
        {
          "output_type": "display_data",
          "data": {
            "text/plain": [
              "<Figure size 432x288 with 1 Axes>"
            ],
            "image/png": "[encoded data removed]"
          },
          "metadata": {
            "needs_background": "light"
          }
        }
      ],
      "source": [
        "# d2x / dt2 = - omega^2 x\n",
        "\n",
        "import math\n",
        "import numpy as np\n",
        "import matplotlib.pyplot as pyplot\n",
        "\n",
        "def initState(x,v,t):\n",
        "    S = np.array([x,v,t])\n",
        "    return(S)\n",
        "\n",
        "def nextState(S,dt):\n",
        "    Sn = S + dt * rate(S,dt)\n",
        "    return(Sn)\n",
        "\n",
        "def rate(S,dt):\n",
        "    omega = 0.05\n",
        "    R = np.array([S[1], -omega*omega*S[0], 1])\n",
        "    return(R)\n",
        "\n",
        "\n",
        "def main():\n",
        "    t=0\n",
        "    tf = 100\n",
        "    dt=0.1\n",
        "    x=2\n",
        "    v=0\n",
        "    S = initState(x,v,dt)\n",
        "    vve=[]\n",
        "    vxe=[]\n",
        "    while (S[2]<tf):\n",
        "        vve.append(S[1])\n",
        "        vxe.append(S[0])\n",
        "        S = nextState(S,dt)\n",
        "\n",
        "\n",
        "    pyplot.figure(0)\n",
        "    pyplot.plot(vxe,label='Euler',linestyle='',marker='o')\n",
        "    pyplot.title('Position')\n",
        "    pyplot.show(block=False)\n",
        "\n",
        "    pyplot.figure(1)\n",
        "    pyplot.plot(vve,label='Euler',linestyle='',marker='o')\n",
        "    pyplot.title('Velocity')\n",
        "    pyplot.show()\n",
        "\n",
        "\n",
        "main()"
      ]
    },
    {
      "cell_type": "markdown",
      "metadata": {
        "id": "OzFADlWVt4nc"
      },
      "source": [
        "### Usando as funções de animação do Python, tente animar a posição e a velocidade do SHO."
      ]
    },
    {
      "cell_type": "code",
      "execution_count": null,
      "metadata": {
        "collapsed": true,
        "id": "87ArwvIMt4nd"
      },
      "outputs": [],
      "source": [
        "### Implemente sua resposta aqui."
      ]
    }
  ],
  "metadata": {
    "anaconda-cloud": {},
    "kernelspec": {
      "display_name": "Python 3",
      "language": "python",
      "name": "python3"
    },
    "language_info": {
      "codemirror_mode": {
        "name": "ipython",
        "version": 3
      },
      "file_extension": ".py",
      "mimetype": "text/x-python",
      "name": "python",
      "nbconvert_exporter": "python",
      "pygments_lexer": "ipython3",
      "version": "3.8.8"
    },
    "colab": {
      "provenance": []
    }
  },
  "nbformat": 4,
  "nbformat_minor": 0
}