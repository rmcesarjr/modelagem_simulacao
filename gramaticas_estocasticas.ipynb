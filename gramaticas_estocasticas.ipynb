{
  "nbformat": 4,
  "nbformat_minor": 0,
  "metadata": {
    "colab": {
      "provenance": []
    },
    "kernelspec": {
      "name": "python3",
      "display_name": "Python 3"
    },
    "language_info": {
      "name": "python"
    }
  },
  "cells": [
    {
      "cell_type": "markdown",
      "source": [
        "# Modelagem e simulação\n",
        "\n",
        "Roberto M. Cesar Jr. - IME - USP\n",
        "\n",
        "rmcesar@usp.br"
      ],
      "metadata": {
        "id": "kbb3rkGkjtFQ"
      }
    },
    {
      "cell_type": "code",
      "source": [
        "import numpy as np\n",
        "\n",
        "# Definição da gramática estocástica\n",
        "grammar = {\n",
        "    'S': [(1.0, 'Eu', 'V')],\n",
        "    'V': [(0.55, 'gosto de', 'O'), (0.45, 'como', 'O')],\n",
        "    'O': [(0.4, 'morango', 'F'),\n",
        "          (0.3, 'banana', 'F'),\n",
        "          (0.3, 'melão', 'F')],\n",
        "    'F': [(1.0, '', None)]  # Estado terminal\n",
        "}\n",
        "\n",
        "def gerar_frase_gramatica_stocastica(grammar, estado_inicial='S'):\n",
        "    frase = []\n",
        "    estado_atual = estado_inicial\n",
        "\n",
        "    while estado_atual is not None:\n",
        "        transicoes = grammar[estado_atual]\n",
        "        probs = [p for p, _, _ in transicoes]\n",
        "        escolhida = np.random.choice(len(transicoes), p=probs)\n",
        "        _, palavra, proximo_estado = transicoes[escolhida]\n",
        "        if palavra:\n",
        "            frase.append(palavra)\n",
        "        estado_atual = proximo_estado\n",
        "\n",
        "    return ' '.join(frase)\n",
        "\n",
        "# Gerar frases\n",
        "for _ in range(10):\n",
        "    print(gerar_frase_gramatica_stocastica(grammar))\n"
      ],
      "metadata": {
        "colab": {
          "base_uri": "https://localhost:8080/"
        },
        "id": "Zgrfc63cSFDZ",
        "outputId": "79ede5e5-2b2f-4450-ea94-0c112cce9c67"
      },
      "execution_count": 3,
      "outputs": [
        {
          "output_type": "stream",
          "name": "stdout",
          "text": [
            "Eu como morango\n",
            "Eu como morango\n",
            "Eu gosto de morango\n",
            "Eu como banana\n",
            "Eu como melão\n",
            "Eu como banana\n",
            "Eu gosto de morango\n",
            "Eu como banana\n",
            "Eu como melão\n",
            "Eu gosto de melão\n"
          ]
        }
      ]
    }
  ]
}